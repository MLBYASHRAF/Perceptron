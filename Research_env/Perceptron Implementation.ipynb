{
 "cells": [
  {
   "cell_type": "code",
   "execution_count": 1,
   "id": "f2664a73",
   "metadata": {},
   "outputs": [],
   "source": [
    "import pandas as pd\n",
    "import numpy as np\n",
    "import os\n",
    "import matplotlib.pyplot as plt\n"
   ]
  },
  {
   "cell_type": "code",
   "execution_count": 2,
   "id": "bfbbf70d",
   "metadata": {},
   "outputs": [
    {
     "name": "stdout",
     "output_type": "stream",
     "text": [
      "Collecting joblib\n",
      "  Using cached joblib-1.1.0-py2.py3-none-any.whl (306 kB)\n",
      "Installing collected packages: joblib\n",
      "Successfully installed joblib-1.1.0\n"
     ]
    }
   ],
   "source": [
    "!pip install joblib"
   ]
  },
  {
   "cell_type": "code",
   "execution_count": 3,
   "id": "d9f6b6d3",
   "metadata": {},
   "outputs": [],
   "source": [
    "import joblib\n",
    "plt.style.use(\"fivethirtyeight\")"
   ]
  },
  {
   "cell_type": "markdown",
   "id": "3c304c68",
   "metadata": {},
   "source": [
    "1e-4=10^-4,\n",
    "eta=learning rate,\n",
    "underscore is hidden method thatswhy we're using(not some protective method though)"
   ]
  },
  {
   "cell_type": "code",
   "execution_count": 29,
   "id": "4894c68d",
   "metadata": {},
   "outputs": [],
   "source": [
    "class Perceptron:\n",
    "    def __init__(self,eta:float=None,epochs:int=None):\n",
    "        self.weights=np.random.randn(3)*1e-4\n",
    "        self.eta=eta #learning rate\n",
    "        self.epochs=epochs #iteration\n",
    "        \n",
    "    def _z_outcome(self,input,weights):\n",
    "        return np.dot(input,weights)\n",
    "    \n",
    "    def activation_function(self,z):\n",
    "        return np.where(z>0,1,0)\n",
    "    \n",
    "    def fit(self,X,y):\n",
    "        self.X=X\n",
    "        self.y=y\n",
    "        \n",
    "        X_with_bias=np.c_[self.X,-np.ones((len(self.X),1))]\n",
    "        print(f\"X with bias:\\n{X_with_bias}\")\n",
    "        \n",
    "        for epoch in range(self.epochs):\n",
    "            print(\"- -\"*10)\n",
    "            z=self._z_outcome(X_with_bias,self.weights)\n",
    "            y_hat=self.activation_function(z)\n",
    "            \n",
    "            print(f\"predicted value after the forward pass:\\n{y_hat}\")\n",
    "            \n",
    "            self.error=self.y-y_hat\n",
    "            print(f\"error:\\n{self.error}\")\n",
    "            \n",
    "            self.weights=self.weights+self.eta * np.dot(X_with_bias.T,self.error)\n",
    "            print(f\"updated weights after each epoch:{epoch+1}/{self.epochs}:\\n{self.weights}\")\n",
    "            print(f\"##\"*10)\n",
    "            \n",
    "    def predict(self,X):\n",
    "        X_with_bias=np.c_[X,-np.ones(len(X),1)]\n",
    "        z=self._z_outcome(X_with_bias,self.weights)\n",
    "        return self.activation_function(z)"
   ]
  },
  {
   "cell_type": "code",
   "execution_count": 14,
   "id": "4bad3925",
   "metadata": {},
   "outputs": [
    {
     "data": {
      "text/html": [
       "<div>\n",
       "<style scoped>\n",
       "    .dataframe tbody tr th:only-of-type {\n",
       "        vertical-align: middle;\n",
       "    }\n",
       "\n",
       "    .dataframe tbody tr th {\n",
       "        vertical-align: top;\n",
       "    }\n",
       "\n",
       "    .dataframe thead th {\n",
       "        text-align: right;\n",
       "    }\n",
       "</style>\n",
       "<table border=\"1\" class=\"dataframe\">\n",
       "  <thead>\n",
       "    <tr style=\"text-align: right;\">\n",
       "      <th></th>\n",
       "      <th>x1</th>\n",
       "      <th>x2</th>\n",
       "      <th>y</th>\n",
       "    </tr>\n",
       "  </thead>\n",
       "  <tbody>\n",
       "    <tr>\n",
       "      <th>0</th>\n",
       "      <td>0</td>\n",
       "      <td>0</td>\n",
       "      <td>0</td>\n",
       "    </tr>\n",
       "    <tr>\n",
       "      <th>1</th>\n",
       "      <td>0</td>\n",
       "      <td>1</td>\n",
       "      <td>1</td>\n",
       "    </tr>\n",
       "    <tr>\n",
       "      <th>2</th>\n",
       "      <td>1</td>\n",
       "      <td>0</td>\n",
       "      <td>1</td>\n",
       "    </tr>\n",
       "    <tr>\n",
       "      <th>3</th>\n",
       "      <td>1</td>\n",
       "      <td>1</td>\n",
       "      <td>1</td>\n",
       "    </tr>\n",
       "  </tbody>\n",
       "</table>\n",
       "</div>"
      ],
      "text/plain": [
       "   x1  x2  y\n",
       "0   0   0  0\n",
       "1   0   1  1\n",
       "2   1   0  1\n",
       "3   1   1  1"
      ]
     },
     "execution_count": 14,
     "metadata": {},
     "output_type": "execute_result"
    }
   ],
   "source": [
    "OR={\n",
    "    \"x1\":[0,0,1,1],\n",
    "    \"x2\":[0,1,0,1],\n",
    "    \"y\":[0,1,1,1]\n",
    "}\n",
    "df_OR=pd.DataFrame(OR)\n",
    "df_OR"
   ]
  },
  {
   "cell_type": "code",
   "execution_count": 15,
   "id": "ae0d4444",
   "metadata": {},
   "outputs": [],
   "source": [
    "def prepare_data(df,target_col=\"y\"):\n",
    "    X=df.drop(target_col,axis=1)\n",
    "    y=df[target_col]\n",
    "    \n",
    "    return X,y\n",
    "\n"
   ]
  },
  {
   "cell_type": "code",
   "execution_count": 16,
   "id": "073e5930",
   "metadata": {},
   "outputs": [],
   "source": [
    "X,y=prepare_data(df_OR)"
   ]
  },
  {
   "cell_type": "code",
   "execution_count": 21,
   "id": "bf7e01f4",
   "metadata": {},
   "outputs": [
    {
     "data": {
      "text/html": [
       "<div>\n",
       "<style scoped>\n",
       "    .dataframe tbody tr th:only-of-type {\n",
       "        vertical-align: middle;\n",
       "    }\n",
       "\n",
       "    .dataframe tbody tr th {\n",
       "        vertical-align: top;\n",
       "    }\n",
       "\n",
       "    .dataframe thead th {\n",
       "        text-align: right;\n",
       "    }\n",
       "</style>\n",
       "<table border=\"1\" class=\"dataframe\">\n",
       "  <thead>\n",
       "    <tr style=\"text-align: right;\">\n",
       "      <th></th>\n",
       "      <th>x1</th>\n",
       "      <th>x2</th>\n",
       "    </tr>\n",
       "  </thead>\n",
       "  <tbody>\n",
       "    <tr>\n",
       "      <th>0</th>\n",
       "      <td>0</td>\n",
       "      <td>0</td>\n",
       "    </tr>\n",
       "    <tr>\n",
       "      <th>1</th>\n",
       "      <td>0</td>\n",
       "      <td>1</td>\n",
       "    </tr>\n",
       "    <tr>\n",
       "      <th>2</th>\n",
       "      <td>1</td>\n",
       "      <td>0</td>\n",
       "    </tr>\n",
       "    <tr>\n",
       "      <th>3</th>\n",
       "      <td>1</td>\n",
       "      <td>1</td>\n",
       "    </tr>\n",
       "  </tbody>\n",
       "</table>\n",
       "</div>"
      ],
      "text/plain": [
       "   x1  x2\n",
       "0   0   0\n",
       "1   0   1\n",
       "2   1   0\n",
       "3   1   1"
      ]
     },
     "execution_count": 21,
     "metadata": {},
     "output_type": "execute_result"
    }
   ],
   "source": [
    "X"
   ]
  },
  {
   "cell_type": "code",
   "execution_count": 22,
   "id": "59ad65e4",
   "metadata": {},
   "outputs": [
    {
     "data": {
      "text/plain": [
       "0    0\n",
       "1    1\n",
       "2    1\n",
       "3    1\n",
       "Name: y, dtype: int64"
      ]
     },
     "execution_count": 22,
     "metadata": {},
     "output_type": "execute_result"
    }
   ],
   "source": [
    "y"
   ]
  },
  {
   "cell_type": "code",
   "execution_count": 30,
   "id": "d0d3c5c3",
   "metadata": {},
   "outputs": [
    {
     "name": "stdout",
     "output_type": "stream",
     "text": [
      "X with bias:\n",
      "[[ 0.  0. -1.]\n",
      " [ 0.  1. -1.]\n",
      " [ 1.  0. -1.]\n",
      " [ 1.  1. -1.]]\n",
      "- -- -- -- -- -- -- -- -- -- -\n",
      "predicted value after the forward pass:\n",
      "[0 0 0 0]\n",
      "error:\n",
      "0    0\n",
      "1    1\n",
      "2    1\n",
      "3    1\n",
      "Name: y, dtype: int64\n",
      "updated weights after each epoch:1/10:\n",
      "[ 0.20001881  0.19994579 -0.29993842]\n",
      "####################\n",
      "- -- -- -- -- -- -- -- -- -- -\n",
      "predicted value after the forward pass:\n",
      "[1 1 1 1]\n",
      "error:\n",
      "0   -1\n",
      "1    0\n",
      "2    0\n",
      "3    0\n",
      "Name: y, dtype: int64\n",
      "updated weights after each epoch:2/10:\n",
      "[ 0.20001881  0.19994579 -0.19993842]\n",
      "####################\n",
      "- -- -- -- -- -- -- -- -- -- -\n",
      "predicted value after the forward pass:\n",
      "[1 1 1 1]\n",
      "error:\n",
      "0   -1\n",
      "1    0\n",
      "2    0\n",
      "3    0\n",
      "Name: y, dtype: int64\n",
      "updated weights after each epoch:3/10:\n",
      "[ 0.20001881  0.19994579 -0.09993842]\n",
      "####################\n",
      "- -- -- -- -- -- -- -- -- -- -\n",
      "predicted value after the forward pass:\n",
      "[1 1 1 1]\n",
      "error:\n",
      "0   -1\n",
      "1    0\n",
      "2    0\n",
      "3    0\n",
      "Name: y, dtype: int64\n",
      "updated weights after each epoch:4/10:\n",
      "[2.00018808e-01 1.99945786e-01 6.15814324e-05]\n",
      "####################\n",
      "- -- -- -- -- -- -- -- -- -- -\n",
      "predicted value after the forward pass:\n",
      "[0 1 1 1]\n",
      "error:\n",
      "0    0\n",
      "1    0\n",
      "2    0\n",
      "3    0\n",
      "Name: y, dtype: int64\n",
      "updated weights after each epoch:5/10:\n",
      "[2.00018808e-01 1.99945786e-01 6.15814324e-05]\n",
      "####################\n",
      "- -- -- -- -- -- -- -- -- -- -\n",
      "predicted value after the forward pass:\n",
      "[0 1 1 1]\n",
      "error:\n",
      "0    0\n",
      "1    0\n",
      "2    0\n",
      "3    0\n",
      "Name: y, dtype: int64\n",
      "updated weights after each epoch:6/10:\n",
      "[2.00018808e-01 1.99945786e-01 6.15814324e-05]\n",
      "####################\n",
      "- -- -- -- -- -- -- -- -- -- -\n",
      "predicted value after the forward pass:\n",
      "[0 1 1 1]\n",
      "error:\n",
      "0    0\n",
      "1    0\n",
      "2    0\n",
      "3    0\n",
      "Name: y, dtype: int64\n",
      "updated weights after each epoch:7/10:\n",
      "[2.00018808e-01 1.99945786e-01 6.15814324e-05]\n",
      "####################\n",
      "- -- -- -- -- -- -- -- -- -- -\n",
      "predicted value after the forward pass:\n",
      "[0 1 1 1]\n",
      "error:\n",
      "0    0\n",
      "1    0\n",
      "2    0\n",
      "3    0\n",
      "Name: y, dtype: int64\n",
      "updated weights after each epoch:8/10:\n",
      "[2.00018808e-01 1.99945786e-01 6.15814324e-05]\n",
      "####################\n",
      "- -- -- -- -- -- -- -- -- -- -\n",
      "predicted value after the forward pass:\n",
      "[0 1 1 1]\n",
      "error:\n",
      "0    0\n",
      "1    0\n",
      "2    0\n",
      "3    0\n",
      "Name: y, dtype: int64\n",
      "updated weights after each epoch:9/10:\n",
      "[2.00018808e-01 1.99945786e-01 6.15814324e-05]\n",
      "####################\n",
      "- -- -- -- -- -- -- -- -- -- -\n",
      "predicted value after the forward pass:\n",
      "[0 1 1 1]\n",
      "error:\n",
      "0    0\n",
      "1    0\n",
      "2    0\n",
      "3    0\n",
      "Name: y, dtype: int64\n",
      "updated weights after each epoch:10/10:\n",
      "[2.00018808e-01 1.99945786e-01 6.15814324e-05]\n",
      "####################\n"
     ]
    }
   ],
   "source": [
    "X,y=prepare_data(df_OR)\n",
    "ETA=0.1\n",
    "EPOCHS=10\n",
    "model_or=Perceptron(eta=ETA,epochs=EPOCHS)\n",
    "model_or.fit(X,y)\n"
   ]
  },
  {
   "cell_type": "code",
   "execution_count": null,
   "id": "e897b662",
   "metadata": {},
   "outputs": [],
   "source": []
  },
  {
   "cell_type": "code",
   "execution_count": null,
   "id": "7795d25f",
   "metadata": {},
   "outputs": [],
   "source": []
  },
  {
   "cell_type": "code",
   "execution_count": null,
   "id": "eb7126e6",
   "metadata": {},
   "outputs": [],
   "source": []
  },
  {
   "cell_type": "code",
   "execution_count": null,
   "id": "4e1464fd",
   "metadata": {},
   "outputs": [],
   "source": []
  }
 ],
 "metadata": {
  "kernelspec": {
   "display_name": "Python 3 (ipykernel)",
   "language": "python",
   "name": "python3"
  },
  "language_info": {
   "codemirror_mode": {
    "name": "ipython",
    "version": 3
   },
   "file_extension": ".py",
   "mimetype": "text/x-python",
   "name": "python",
   "nbconvert_exporter": "python",
   "pygments_lexer": "ipython3",
   "version": "3.7.11"
  }
 },
 "nbformat": 4,
 "nbformat_minor": 5
}
